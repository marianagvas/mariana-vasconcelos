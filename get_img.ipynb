{
 "cells": [
  {
   "cell_type": "code",
   "execution_count": null,
   "metadata": {},
   "outputs": [],
   "source": [
    "import re, requests, os"
   ]
  },
  {
   "cell_type": "code",
   "execution_count": null,
   "metadata": {},
   "outputs": [],
   "source": [
    "SIZE_MULTIPLIER = 4"
   ]
  },
  {
   "cell_type": "code",
   "execution_count": null,
   "metadata": {},
   "outputs": [],
   "source": [
    "source_url = input()\n",
    "# print(source_url)"
   ]
  },
  {
   "cell_type": "code",
   "execution_count": null,
   "metadata": {},
   "outputs": [],
   "source": [
    "wix = \"https://static.wixstatic\" + source_url.split(\"https://static.wixstatic\")[1]\n",
    "# print(wix)"
   ]
  },
  {
   "cell_type": "code",
   "execution_count": null,
   "metadata": {},
   "outputs": [],
   "source": [
    "# Define the regex pattern to match the width, height, and quality\n",
    "pattern = r'w_(\\d+),h_(\\d+),q_(\\d+)'\n",
    "\n",
    "# Function to replace the matched pattern with a multiplier for width and height, and set quality to 90\n",
    "def replace_quality(match, multiplier):\n",
    "\twidth = int(match.group(1))\n",
    "\theight = int(match.group(2))\n",
    "\t\n",
    "\tnew_width = width * multiplier\n",
    "\tnew_height = height * multiplier\n",
    "\tnew_quality = 90\n",
    "\t\n",
    "\treturn f'w_{new_width},h_{new_height},q_{new_quality}'\n",
    "\n",
    "# Use re.sub to replace the pattern in the wix URL\n",
    "new_wix = re.sub(pattern, lambda m: replace_quality(m, SIZE_MULTIPLIER), wix)\n",
    "print(new_wix)"
   ]
  },
  {
   "cell_type": "code",
   "execution_count": null,
   "metadata": {},
   "outputs": [],
   "source": [
    "custom_name = input(\"Enter the custom name for the file (without extension): \")\n",
    "save_path = os.path.join('public', f\"{custom_name}.webp\")\n",
    "response = requests.get(new_wix)\n",
    "with open(save_path, 'wb') as file: file.write(response.content)\n",
    "print(f\"File saved to {save_path}\")"
   ]
  },
  {
   "cell_type": "code",
   "execution_count": null,
   "metadata": {},
   "outputs": [],
   "source": []
  }
 ],
 "metadata": {
  "kernelspec": {
   "display_name": "leaks-ArvCfdH_",
   "language": "python",
   "name": "python3"
  },
  "language_info": {
   "codemirror_mode": {
    "name": "ipython",
    "version": 3
   },
   "file_extension": ".py",
   "mimetype": "text/x-python",
   "name": "python",
   "nbconvert_exporter": "python",
   "pygments_lexer": "ipython3",
   "version": "3.10.12"
  }
 },
 "nbformat": 4,
 "nbformat_minor": 2
}
